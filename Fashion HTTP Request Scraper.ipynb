{
 "cells": [
  {
   "cell_type": "code",
   "execution_count": 23,
   "id": "df64b246",
   "metadata": {},
   "outputs": [],
   "source": [
    "#http imports\n",
    "import requests\n",
    "from bs4 import BeautifulSoup\n",
    "from datetime import date\n",
    "import csv\n",
    "import os\n",
    "import json\n",
    "import urllib.request\n",
    "import pandas as pd\n",
    "from datetime import date\n",
    "from datetime import datetime\n",
    "\n",
    "# pass headers in a dict to the headers parameter to mimic a real human doing the request using a web browser\n",
    "headers = {\n",
    "    'accept': '*/*',\n",
    "    'content-type': 'text/html;charset=UTF-8',\n",
    "    'content-encoding': 'gzip',\n",
    "    'origin': 'www.zillow.com',\n",
    "    'User-Agent': 'Mozilla/5.0 (Windows NT 10.0; Win64; x64) AppleWebKit/537.36 (KHTML, like Gecko) Chrome/97.0.4692.71 Safari/537.36'\n",
    "}"
   ]
  },
  {
   "cell_type": "code",
   "execution_count": 24,
   "id": "e82d11f8",
   "metadata": {
    "scrolled": true
   },
   "outputs": [],
   "source": [
    "num_clothing = 25 #how many products to scrape\n",
    "url = \"https://us.kowtowclothing.com/collections/all\"\n",
    "\n",
    "#init details\n",
    "brand = []\n",
    "product_type = [] #name extracted from url (can be blank)\n",
    "product_name = []\n",
    "product_description = []\n",
    "price = [] #price before sale (can be blank)\n",
    "sales_price = [] #price customer pays\n",
    "color = []\n",
    "material = []\n",
    "product_url = []\n",
    "picture_url = []\n",
    "timestamp = []\n",
    "gender = [] #website did not have gender specified so all unisex\n",
    "new_arrival = []\n",
    "\n",
    "current_date = date.today()\n",
    "\n",
    "#opening url\n",
    "response = requests.get(url, headers=headers)\n",
    "\n",
    "#reading content with BeautifulSoup\n",
    "soup = BeautifulSoup(response.content, 'html.parser')\n",
    "\n",
    "products_scraped = 0\n",
    "\n",
    "product_link_tags = soup.find_all(\"a\", {'class':'grid-product-link-wrapper'})\n",
    "product_links = []\n",
    "for tag in product_link_tags:\n",
    "    product_links.append('https://us.kowtowclothing.com' + tag.get('href'))\n"
   ]
  },
  {
   "cell_type": "code",
   "execution_count": 25,
   "id": "6f04f927",
   "metadata": {},
   "outputs": [],
   "source": [
    "#new arrivals\n",
    "arrivals_url = \"https://us.kowtowclothing.com/collections/new-arrivals\"\n",
    "new_arrivals = BeautifulSoup(requests.get(arrivals_url, headers=headers).content, 'html.parser')\n",
    "\n",
    "new_arrival_names = []\n",
    "new_arrival_links = new_arrivals.find_all(\"a\", {\"class\":\"grid-product-link-wrapper\"})\n",
    "for tag in new_arrival_links:\n",
    "    new_arrival_names.append(tag.get(\"href\").split(\"/\")[-1])\n",
    "for link in product_links:\n",
    "    new = False\n",
    "    for arrival_name in new_arrival_names:\n",
    "        if arrival_name == link.split(\"/\")[-1]:\n",
    "            new = True\n",
    "            break\n",
    "    new_arrival.append(new)"
   ]
  },
  {
   "cell_type": "code",
   "execution_count": 26,
   "id": "b1016a74",
   "metadata": {
    "scrolled": true
   },
   "outputs": [],
   "source": [
    "count = 0\n",
    "while products_scraped < num_clothing and count < len(product_links): #mouse pog\n",
    "    product_page = BeautifulSoup(requests.get(product_links[count], headers=headers).content, 'html.parser')\n",
    "    \n",
    "    product_div = product_page.find('div', {'itemtype': 'http://schema.org/Product'}) \n",
    "    \n",
    "    #urls, desc, and brand\n",
    "    product_metas = product_div.find_all('meta')\n",
    "    \"\"\"\n",
    "    0: product url\n",
    "    1: description\n",
    "    2: image url\n",
    "    3: brand\n",
    "    ...: not needed\n",
    "    \"\"\"\n",
    "    product_url.append(product_metas[0].get('content'))\n",
    "    product_description.append(product_metas[1].get('content'))\n",
    "    picture_url.append(product_metas[2].get('content'))\n",
    "    brand.append(product_metas[3].get('content'))\n",
    "    \n",
    "    \n",
    "    #money and color\n",
    "    product_misc = product_div.find_all('h2', {'class':'subtitle is-9'})\n",
    "    product_misc_text = []\n",
    "    for h2 in product_misc:\n",
    "        product_misc_text.append(h2.get_text()) #0 and 1 price with \\n, 3 is color\n",
    "    #splitting price\n",
    "    money_split = product_misc_text[0].split('\\n') #0 is '', 1,2 are prices\n",
    "    price.append(money_split[1])\n",
    "    sales_price.append(money_split[2])\n",
    "    color.append(product_misc_text[2])\n",
    "    \n",
    "    #product name\n",
    "    name = product_div.find('h1', {'itemprop':'name'})\n",
    "    product_name.append(name.get_text())\n",
    "    \n",
    "    #material\n",
    "    material_div = product_page.find(\"div\", {'class':\"swatch js-swatch\"})\n",
    "    data_tags = material_div['data-product-tags']\n",
    "    data_tags_split = data_tags.split(\",\")\n",
    "    material_info = []\n",
    "    for tag in data_tags_split:\n",
    "        if \"fabric\" in tag or \"content\" in tag or \"process\" in tag:\n",
    "            material_info.append(tag.split(\":\")[1][:-1])\n",
    "    material.append(material_info)\n",
    "    \n",
    "    #gender and timestamp\n",
    "    gender.append('unisex') #website does not have gendered clothing \n",
    "    timestamp.append(datetime.now())\n",
    "    \n",
    "    \n",
    "    count += 1"
   ]
  },
  {
   "cell_type": "code",
   "execution_count": 31,
   "id": "46bbce25",
   "metadata": {},
   "outputs": [],
   "source": [
    "#csv output and dataframe\n",
    "lists = list(zip(brand, product_type, product_name, product_description, price, sales_price, color, material, product_url, picture_url, timestamp, gender, new_arrival))\n",
    "column_names = [\"Brand\", \"Product Type\", \"Product Name\", \"Description\", \"Price\", \"Sales Price\", \"Color\", \"Material\", \"Product URL\", \"Picture URL\", \"Timestamp\", \"Gender\", \"New Arrival\"]\n",
    "dataframe = pd.DataFrame(lists, columns = column_names)\n"
   ]
  },
  {
   "cell_type": "code",
   "execution_count": 20,
   "id": "a834a575",
   "metadata": {},
   "outputs": [
    {
     "data": {
      "text/html": [
       "<div>\n",
       "<style scoped>\n",
       "    .dataframe tbody tr th:only-of-type {\n",
       "        vertical-align: middle;\n",
       "    }\n",
       "\n",
       "    .dataframe tbody tr th {\n",
       "        vertical-align: top;\n",
       "    }\n",
       "\n",
       "    .dataframe thead th {\n",
       "        text-align: right;\n",
       "    }\n",
       "</style>\n",
       "<table border=\"1\" class=\"dataframe\">\n",
       "  <thead>\n",
       "    <tr style=\"text-align: right;\">\n",
       "      <th></th>\n",
       "      <th>Brand</th>\n",
       "      <th>Product Type</th>\n",
       "      <th>Product Name</th>\n",
       "      <th>Description</th>\n",
       "      <th>Price</th>\n",
       "      <th>Sales Price</th>\n",
       "      <th>Color</th>\n",
       "      <th>Material</th>\n",
       "      <th>Product URL</th>\n",
       "      <th>Picture URL</th>\n",
       "      <th>Timestamp</th>\n",
       "      <th>Gender</th>\n",
       "      <th>New Arrival</th>\n",
       "    </tr>\n",
       "  </thead>\n",
       "  <tbody>\n",
       "  </tbody>\n",
       "</table>\n",
       "</div>"
      ],
      "text/plain": [
       "Empty DataFrame\n",
       "Columns: [Brand, Product Type, Product Name, Description, Price, Sales Price, Color, Material, Product URL, Picture URL, Timestamp, Gender, New Arrival]\n",
       "Index: []"
      ]
     },
     "execution_count": 20,
     "metadata": {},
     "output_type": "execute_result"
    }
   ],
   "source": [
    "dataframe"
   ]
  },
  {
   "cell_type": "code",
   "execution_count": null,
   "id": "5dccfd06",
   "metadata": {},
   "outputs": [],
   "source": []
  },
  {
   "cell_type": "code",
   "execution_count": null,
   "id": "b7dbe82f",
   "metadata": {},
   "outputs": [],
   "source": []
  }
 ],
 "metadata": {
  "kernelspec": {
   "display_name": "Python 3 (ipykernel)",
   "language": "python",
   "name": "python3"
  },
  "language_info": {
   "codemirror_mode": {
    "name": "ipython",
    "version": 3
   },
   "file_extension": ".py",
   "mimetype": "text/x-python",
   "name": "python",
   "nbconvert_exporter": "python",
   "pygments_lexer": "ipython3",
   "version": "3.10.1"
  }
 },
 "nbformat": 4,
 "nbformat_minor": 5
}
