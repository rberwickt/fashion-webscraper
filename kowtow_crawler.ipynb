{
 "cells": [
  {
   "cell_type": "code",
   "execution_count": 1,
   "id": "df64b246",
   "metadata": {},
   "outputs": [],
   "source": [
    "#http imports\n",
    "import requests\n",
    "from bs4 import BeautifulSoup\n",
    "from datetime import date\n",
    "import csv\n",
    "import os\n",
    "import json\n",
    "import urllib.request\n",
    "import pandas as pd\n",
    "from datetime import date\n",
    "from datetime import datetime\n",
    "\n",
    "# pass headers in a dict to the headers parameter to mimic a real human doing the request using a web browser\n",
    "headers = {\n",
    "    'accept': '*/*',\n",
    "    'content-type': 'text/html;charset=UTF-8',\n",
    "    'content-encoding': 'gzip',\n",
    "    'origin': 'www.zillow.com',\n",
    "    'User-Agent': 'Mozilla/5.0 (Windows NT 10.0; Win64; x64) AppleWebKit/537.36 (KHTML, like Gecko) Chrome/97.0.4692.71 Safari/537.36'\n",
    "}"
   ]
  },
  {
   "cell_type": "code",
   "execution_count": 2,
   "id": "e82d11f8",
   "metadata": {
    "scrolled": true
   },
   "outputs": [],
   "source": [
    "num_clothing = 300 #how many products to scrape\n",
    "url = \"https://us.kowtowclothing.com/collections/all\"\n",
    "\n",
    "#init details\n",
    "brand = []\n",
    "product_type = [] #name extracted from url (can be blank)\n",
    "product_name = []\n",
    "product_description = []\n",
    "price = [] #price before sale (can be blank)\n",
    "sales_price = [] #price customer pays\n",
    "color = []\n",
    "material = []\n",
    "product_url = []\n",
    "picture_url = []\n",
    "timestamp = []\n",
    "gender = [] #website did not have gender specified so all unisex\n",
    "new_arrival = []\n",
    "\n",
    "current_date = date.today()\n",
    "\n",
    "#opening url\n",
    "response = requests.get(url, headers=headers)\n",
    "\n",
    "#reading content with BeautifulSoup\n",
    "soup = BeautifulSoup(response.content, 'html.parser')\n",
    "\n",
    "products_scraped = 0\n",
    "\n",
    "product_link_tags = soup.find_all(\"a\", {'class':'grid-product-link-wrapper'})\n",
    "product_links = []\n",
    "for tag in product_link_tags:\n",
    "    product_links.append('https://us.kowtowclothing.com' + tag.get('href'))\n"
   ]
  },
  {
   "cell_type": "code",
   "execution_count": 3,
   "id": "6f04f927",
   "metadata": {
    "scrolled": false
   },
   "outputs": [
    {
     "name": "stdout",
     "output_type": "stream",
     "text": [
      "['otti-jumper-indigo-check', 'composure-cardigan-primary-red', 'escape-crew-primary-red', 'triangle-skirt-indigo-denim', 'henri-crew-indigo', 'jules-shirt-math-grid', 'lotte-dress-math-grid', 'phoebe-dress-math-grid', 'sailor-jeans-earth-denim', 'triangle-skirt-earth-denim', 'workshop-jacket-earth-denim', 'kiki-top-red', 'kiki-dress-red', 'theory-dress-red', 'composure-cardigan-primary-blue', 'escape-crew-primary-blue', 'cable-sweater-marle', 'apron-dress-black', 'cable-sweater-leaf', 'henri-crew-leaf', 'henri-roll-neck-jumper-leaf', 'painter-jacket-workwear-blue-denim', 'fisherman-crew-indigo', 'henri-roll-neck-jumper-indigo', 'workshop-jacket-indigo-denim', 'standard-jeans-earth-denim', 'tool-tote-earth-denim', 'barrel-jeans-natural-denim', 'outline-shorts-natural-denim', 'sailor-jeans-natural-denim', 'tool-tote-natural-denim', 'theory-dress-watercolour-check', 'klee-dress-watercolour-check', 'goldie-top-watercolour-check', 'building-block-cap-sleeve-dress-violet', 'building-block-long-sleeve-top-violet', 'building-block-tank-top-violet', 'building-block-oversized-boxy-tee-gouache-print', 'petal-shirt-white', 'building-block-frill-sleeve-tee-white', 'outline-shorts-indigo-denim', 'barrel-jeans-indigo-denim', 'sailor-jeans-indigo-denim', 'building-block-cap-sleeve-dress-leaf', 'building-block-long-sleeve-top-leaf', 'building-block-tank-top-leaf', 'ida-jumpsuit-black', 'building-block-frill-sleeve-tee-black', 'composure-cardigan-black', 'knitted-polo-black', 'solar-dress-black', 'mila-knit-vest-black', 'element-knit-top-black', 'escape-crew-black', 'element-knit-top-marle', 'mila-knit-vest-marle', 'knitted-polo-marle', 'building-block-wide-leg-pant-black', 'building-block-classic-tee-black', 'building-block-tank-swing-dress-black', 'building-block-pant-black', 'building-block-oversized-boxy-tee-black', 'building-block-racer-back-singlet-black', 'culottes-black', 'everyday-shirt-white', 'building-block-oversized-boxy-tee-white', 'building-block-classic-tee-white', 'building-block-racer-back-singlet-white']\n"
     ]
    }
   ],
   "source": [
    "page = 1\n",
    "new_arrival_names = []\n",
    "while page <= 100:\n",
    "    #new arrivals\n",
    "    arrivals_url = \"https://us.kowtowclothing.com/collections/new-arrivals?page=\" + str(page)\n",
    "    new_arrivals = BeautifulSoup(requests.get(arrivals_url, headers=headers).content, 'html.parser')\n",
    "\n",
    "    p_elements = new_arrivals.find_all('p')\n",
    "    if p_elements[3].get_text() == \"Sorry, there are no products in this collection\":\n",
    "        break\n",
    "\n",
    "            \n",
    "\n",
    "    new_arrival_links = new_arrivals.find_all(\"a\", {\"class\":\"grid-product-link-wrapper\"})\n",
    "    for tag in new_arrival_links:\n",
    "        new_arrival_names.append(tag.get(\"href\").split(\"/\")[-1])\n",
    "    page += 1\n",
    "print(new_arrival_names)\n",
    "\n",
    "    \n",
    "\n",
    "    \n",
    "    "
   ]
  },
  {
   "cell_type": "code",
   "execution_count": 4,
   "id": "b1016a74",
   "metadata": {
    "scrolled": true
   },
   "outputs": [
    {
     "name": "stdout",
     "output_type": "stream",
     "text": [
      "PAGE NUM 1\n",
      "PAGE NUM 2\n",
      "PAGE NUM 3\n",
      "PAGE NUM 4\n",
      "PAGE NUM 5\n",
      "PAGE NUM 6\n",
      "PAGE NUM 7\n",
      "PAGE NUM 8\n",
      "PAGE NUM 9\n",
      "PAGE NUM 10\n",
      "PAGE NUM 11\n",
      "PAGE NUM 12\n"
     ]
    }
   ],
   "source": [
    "page_exists = True\n",
    "page = 1\n",
    "\n",
    "while page_exists and page <13:\n",
    "    print(\"PAGE NUM\", page)\n",
    "    url = \"https://us.kowtowclothing.com/collections/all?page=\" + str(page)\n",
    "    #opening url\n",
    "    response = requests.get(url, headers=headers)\n",
    "\n",
    "    #reading content with BeautifulSoup\n",
    "    soup = BeautifulSoup(response.content, 'html.parser')\n",
    "\n",
    "    products_scraped = 0\n",
    "    \n",
    "    #checking if page has any products\n",
    "    p_elements = soup.find_all('p')\n",
    "    if p_elements[3].get_text() == \"Sorry, there are no products in this collection\":\n",
    "        break\n",
    "    \n",
    "    #getting products as links\n",
    "    product_link_tags = soup.find_all(\"a\", {'class':'grid-product-link-wrapper'})\n",
    "    product_links = []\n",
    "    for tag in product_link_tags:\n",
    "        product_links.append('https://us.kowtowclothing.com' + tag.get('href'))\n",
    "    \n",
    "    #Check for new arrival\n",
    "    for link in product_links:\n",
    "        new = False\n",
    "        for arrival_name in new_arrival_names:\n",
    "            if arrival_name == link.split(\"/\")[-1]:\n",
    "                new = True\n",
    "                break\n",
    "        new_arrival.append(new)\n",
    "        \n",
    "    count = 0\n",
    "    while products_scraped < num_clothing and count < len(product_links): #mouse pog\n",
    "        product_page = BeautifulSoup(requests.get(product_links[count], headers=headers).content, 'html.parser')\n",
    "\n",
    "        product_div = product_page.find('div', {'itemtype': 'http://schema.org/Product'}) \n",
    "\n",
    "        #urls, desc, and brand\n",
    "        product_metas = product_div.find_all('meta')\n",
    "        \"\"\"\n",
    "        0: product url\n",
    "        1: description\n",
    "        2: image url\n",
    "        3: brand\n",
    "        ...: not needed\n",
    "        \"\"\"\n",
    "        product_url.append(product_metas[0].get('content'))\n",
    "        product_description.append(product_metas[1].get('content'))\n",
    "        picture_url.append(product_metas[2].get('content'))\n",
    "        brand.append(product_metas[3].get('content'))\n",
    "\n",
    "\n",
    "        #money and color\n",
    "        product_misc = product_div.find_all('h2', {'class':'subtitle is-9'})\n",
    "        product_misc_text = []\n",
    "        for h2 in product_misc:\n",
    "            product_misc_text.append(h2.get_text()) #0 and 1 price with \\n, 3 is color\n",
    "        #splitting price\n",
    "        money_split = product_misc_text[0].split('\\n') #0 is '', 1,2 are prices\n",
    "        if len(product_misc_text) >= 3:\n",
    "            price.append(money_split[1])\n",
    "            sales_price.append(money_split[2])\n",
    "            color.append(product_misc_text[2])\n",
    "        else:\n",
    "            price.append(money_split[0])\n",
    "            sales_price.append('none')\n",
    "            color.append('none')\n",
    "        #product name\n",
    "        name = product_div.find('h1', {'itemprop':'name'})\n",
    "        product_name.append(name.get_text())\n",
    "\n",
    "        #material\n",
    "        material_div = product_page.find(\"div\", {'class':\"swatch js-swatch\"})\n",
    "        if material_div:\n",
    "            data_tags = material_div['data-product-tags']\n",
    "            data_tags_split = data_tags.split(\",\")\n",
    "            material_info = []\n",
    "            for tag in data_tags_split:\n",
    "                if \"fabric\" in tag or \"content\" in tag or \"process\" in tag:\n",
    "                    material_info.append(tag.split(\":\")[1][:-1])\n",
    "            material.append(material_info)\n",
    "        else:\n",
    "            material.append(\"none\")\n",
    "        #gender and timestamp\n",
    "        gender.append('unisex') #website does not have gendered clothing \n",
    "        timestamp.append(datetime.now())\n",
    "\n",
    "        #product type\n",
    "        product_type.append(\"none\")\n",
    "        \n",
    "        count += 1\n",
    "    page += 1\n",
    "\n",
    "    "
   ]
  },
  {
   "cell_type": "code",
   "execution_count": 5,
   "id": "46bbce25",
   "metadata": {},
   "outputs": [],
   "source": [
    "#csv output and dataframe\n",
    "dataframe = pd.DataFrame(list(zip(brand, product_type, product_name, product_description, price, sales_price, color, material, product_url, picture_url, timestamp, gender, new_arrival)), columns = [\"Brand\", \"Product Type\", \"Product Name\", \"Description\", \"Price\", \"Sales Price\", \"Color\", \"Material\", \"Product URL\", \"Picture URL\", \"Timestamp\", \"Gender\", \"New Arrival\"])\n"
   ]
  },
  {
   "cell_type": "code",
   "execution_count": 7,
   "id": "a834a575",
   "metadata": {
    "scrolled": false
   },
   "outputs": [],
   "source": [
    "dataframe.head()\n",
    "dataframe.to_csv('kowtow.csv')"
   ]
  },
  {
   "cell_type": "code",
   "execution_count": null,
   "id": "5dccfd06",
   "metadata": {},
   "outputs": [],
   "source": []
  },
  {
   "cell_type": "code",
   "execution_count": null,
   "id": "b7dbe82f",
   "metadata": {},
   "outputs": [],
   "source": []
  }
 ],
 "metadata": {
  "kernelspec": {
   "display_name": "Python 3 (ipykernel)",
   "language": "python",
   "name": "python3"
  },
  "language_info": {
   "codemirror_mode": {
    "name": "ipython",
    "version": 3
   },
   "file_extension": ".py",
   "mimetype": "text/x-python",
   "name": "python",
   "nbconvert_exporter": "python",
   "pygments_lexer": "ipython3",
   "version": "3.10.1"
  }
 },
 "nbformat": 4,
 "nbformat_minor": 5
}
