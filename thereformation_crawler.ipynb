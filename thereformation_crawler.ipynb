{
 "cells": [
  {
   "cell_type": "code",
   "execution_count": null,
   "id": "8cdc105f",
   "metadata": {},
   "outputs": [],
   "source": [
    "import requests\n",
    "#selenium\n",
    "from selenium import webdriver\n",
    "from selenium.webdriver.chrome.service import Service\n",
    "from webdriver_manager.chrome import ChromeDriverManager\n",
    "from selenium.webdriver.common.by import By\n",
    "#\n",
    "from bs4 import BeautifulSoup\n",
    "from datetime import date\n",
    "from time import sleep\n",
    "import csv\n",
    "import os\n",
    "import json\n",
    "import urllib.request\n",
    "import pandas as pd\n",
    "from datetime import date\n",
    "from datetime import datetime\n",
    "\n",
    "\n",
    "#https://wearpact.com/"
   ]
  },
  {
   "cell_type": "code",
   "execution_count": 1,
   "id": "e052cdcf",
   "metadata": {},
   "outputs": [],
   "source": [
    "#lists for data\n",
    "\n",
    "brand = []\n",
    "product_type = []\n",
    "product_name = []\n",
    "product_description = []\n",
    "price = []\n",
    "sales_price = []\n",
    "color = [] #reference the wearpact crawler for how to get the image of each different color\n",
    "material = []\n",
    "product_url = []\n",
    "picture_url = [] \n",
    "timestamp = []\n",
    "gender = [] #looks like the site is all womens clothing\n",
    "new_arrival = []\n",
    "\n",
    "# you will definitely need to use scrolling loop i used \n",
    "#maybe add a sleep somewhere in there to give it extra time to go down\n",
    "#as it seems you have to fully hit the bottom before it puts new products\n",
    "\n",
    "current_date = date.today()\n",
    "\n",
    "driver = webdriver.Chrome(service=Service(ChromeDriverManager().install())) #selenium\n",
    "driver.set_window_size(1120, 1000)\n",
    "\n",
    "#to get a webpage with selenium you use driver.get(url), and if you want to crawl what the driver sees using bs4 you use\n",
    "    # soup = BeautifulSoup(driver.page_source,'html.parser'), keep in mind you can also find and access attributes of elements\n",
    "    # with selenium using BY. I used this a few times in mine (needed for clicking)\n",
    "\n",
    "\n",
    "\"\"\"\n",
    "#Useful example of having the driver scroll down the page slowly to generate any new products if the page gets larger as you scroll\n",
    "total_height = int(driver.execute_script(\"return document.body.scrollHeight\"))\n",
    "    i = 1\n",
    "    while i < total_height:\n",
    "        i+=5\n",
    "        total_height = int(driver.execute_script(\"return document.body.scrollHeight\"))\n",
    "        driver.execute_script(\"window.scrollTo(0, {});\".format(i))\n",
    "\"\"\""
   ]
  },
  {
   "cell_type": "code",
   "execution_count": null,
   "id": "e32972b1",
   "metadata": {},
   "outputs": [],
   "source": []
  }
 ],
 "metadata": {
  "kernelspec": {
   "display_name": "Python 3 (ipykernel)",
   "language": "python",
   "name": "python3"
  },
  "language_info": {
   "codemirror_mode": {
    "name": "ipython",
    "version": 3
   },
   "file_extension": ".py",
   "mimetype": "text/x-python",
   "name": "python",
   "nbconvert_exporter": "python",
   "pygments_lexer": "ipython3",
   "version": "3.10.1"
  }
 },
 "nbformat": 4,
 "nbformat_minor": 5
}
